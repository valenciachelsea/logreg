{
 "cells": [
  {
   "cell_type": "code",
   "execution_count": 3,
   "id": "5a705358-fe51-4def-b2b8-c9d67427f76c",
   "metadata": {},
   "outputs": [],
   "source": [
    "#Import libraries\n",
    "import matplotlib.pyplot as plt\n",
    "import numpy as np\n",
    "import pandas as pd\n",
    "import seaborn as sns\n",
    "from sklearn.model_selection import train_test_split, cross_val_score\n",
    "from sklearn.metrics import accuracy_score, confusion_matrix, classification_report, roc_curve, auc\n",
    "\n",
    "#Classifier libraries\n",
    "from sklearn.linear_model import LogisticRegression\n",
    "from sklearn.svm import SVC\n",
    "from sklearn.neighbors import KNeighborsClassifier\n",
    "from sklearn.tree import DecisionTreeClassifier\n",
    "from sklearn.ensemble import RandomForestClassifier\n",
    "from sklearn.ensemble import IsolationForest\n",
    "#Need to pip install xgboost\n",
    "# import xgboost as xgb\n",
    "import collections"
   ]
  },
  {
   "cell_type": "code",
   "execution_count": 10,
   "id": "49144c3a-f68c-489e-9230-6f2a739daf3c",
   "metadata": {
    "tags": []
   },
   "outputs": [],
   "source": [
    "#Import and manipulate dataset here\n",
    "#Dataset credit goes to https://github.com/lostincalibasas \n",
    "\n",
    "journey = pd.read_csv('/Users/chelseavalencia/Desktop/customer_journey.csv')"
   ]
  },
  {
   "cell_type": "code",
   "execution_count": 18,
   "id": "aad2d33c-4c75-47dc-a8f4-d6dd7128b254",
   "metadata": {
    "tags": []
   },
   "outputs": [
    {
     "data": {
      "text/plain": [
       "7.359259259259259"
      ]
     },
     "execution_count": 18,
     "metadata": {},
     "output_type": "execute_result"
    }
   ],
   "source": [
    "#Show first five rows of dataset\n",
    "journey.head()\n",
    "\n",
    "#Find number of unique IDs\n",
    "journey.user_id.nunique()\n",
    "\n",
    "#Average session per user\n",
    "journey.user_id.count() / journey.user_id.nunique()"
   ]
  },
  {
   "cell_type": "code",
   "execution_count": 5,
   "id": "9832e1d5-2b88-495e-844f-b38c3d46f38e",
   "metadata": {
    "tags": []
   },
   "outputs": [
    {
     "ename": "NameError",
     "evalue": "name 'summary_df' is not defined",
     "output_type": "error",
     "traceback": [
      "\u001b[0;31m---------------------------------------------------------------------------\u001b[0m",
      "\u001b[0;31mNameError\u001b[0m                                 Traceback (most recent call last)",
      "Cell \u001b[0;32mIn[5], line 2\u001b[0m\n\u001b[1;32m      1\u001b[0m \u001b[38;5;66;03m#Create dataframe for two populations; this may not be needed with the new dataset\u001b[39;00m\n\u001b[0;32m----> 2\u001b[0m conversion \u001b[38;5;241m=\u001b[39m summary_df[summary_df[\u001b[38;5;124m'\u001b[39m\u001b[38;5;124mis_mql\u001b[39m\u001b[38;5;124m'\u001b[39m] \u001b[38;5;241m==\u001b[39m \u001b[38;5;241m1\u001b[39m]\n\u001b[1;32m      3\u001b[0m non_conversion \u001b[38;5;241m=\u001b[39m summary_df[summary_df[\u001b[38;5;124m'\u001b[39m\u001b[38;5;124mis_mql\u001b[39m\u001b[38;5;124m'\u001b[39m] \u001b[38;5;241m==\u001b[39m \u001b[38;5;241m0\u001b[39m]\n\u001b[1;32m      5\u001b[0m \u001b[38;5;66;03m#Get count of conversions\u001b[39;00m\n",
      "\u001b[0;31mNameError\u001b[0m: name 'summary_df' is not defined"
     ]
    }
   ],
   "source": [
    "#Create dataframe for two populations; this may not be needed with the new dataset\n",
    "conversion = summary_df[summary_df['is_conversion'] == 1]\n",
    "non_conversion = summary_df[summary_df['is_conversion'] == 0]\n",
    "\n",
    "#Get count of conversions\n",
    "conversion.count()\n",
    "\n",
    "#Find unique IDs in non_conversion dataframe. \n",
    "unique_ids = non_conversion['id'].unique()\n",
    "\n",
    "#Set seed to reproduce results\n",
    "np.random.seed(42)\n",
    "\n",
    "#Take a sample of IDs from the unique_id\n",
    "sample_size = 1000\n",
    "sampled_ids = np.random.choice(unique_ids, size = sample_size, replace = False)\n",
    "\n",
    "#Get sampled dataset\n",
    "sample_non_conversion = summary_df[summary_df['id'].isin(sampled_ids)]\n",
    "\n",
    "#Create final dataframe\n",
    "prospects = pd.concat([conversion, non_conversion], ignore_index = True)"
   ]
  },
  {
   "cell_type": "code",
   "execution_count": null,
   "id": "3047901f-1ba8-4d77-9cf0-22baf2e3b2cf",
   "metadata": {},
   "outputs": [],
   "source": [
    "#Verify equal classes\n",
    "colors = []\n",
    "\n",
    "plt.ticklabel_format(style = 'plain')\n",
    "sns.countplot(x = 'is_conversion', data = prospects, palette = colors)\n",
    "plt.title('Class Distributions', font_size = 14)\n",
    "\n",
    "plt.show"
   ]
  },
  {
   "cell_type": "code",
   "execution_count": null,
   "id": "0e7f7976-373c-492c-babc-809043ed40e7",
   "metadata": {},
   "outputs": [],
   "source": [
    "#Define independent and dependent variables\n",
    "X = prospects['column_names']\n",
    "y = prospects['column_names']"
   ]
  },
  {
   "cell_type": "code",
   "execution_count": null,
   "id": "e4fe72e4-f225-4ee2-b766-7e53aaf87486",
   "metadata": {},
   "outputs": [],
   "source": [
    "#Check for correlation between the variables\n",
    "f, (ax1) = plt.subplots(1,1, figsize(15,5))\n",
    "\n",
    "prospects_corr = X.corr()\n",
    "\n",
    "sns.heatmap(prospects_corr, cmap = 'coolwarm_r', annot_kws={'size':20}, ax=ax1)\n",
    "ax1.set_title(\"Correlation Matrix\", font_size = 14)\n",
    "\n",
    "plt.show()"
   ]
  },
  {
   "cell_type": "code",
   "execution_count": null,
   "id": "b19439b7-a7a4-4388-83c0-913882d1e3c8",
   "metadata": {},
   "outputs": [],
   "source": [
    "#Separate into train, test, split for models\n",
    "X_train, X_test, y_train, y_test = train_test_split(X, y, test_size = 0.2, random_state = 42)"
   ]
  },
  {
   "cell_type": "code",
   "execution_count": null,
   "id": "76d17966-089f-43d4-9c70-d3ad1e9b0dda",
   "metadata": {},
   "outputs": [],
   "source": [
    "#Instantiate Logistic Regression model\n",
    "model_logreg = LogisticRegression()\n",
    "\n",
    "#Fit model with training data\n",
    "model_logreg.fit(X_train, y_train)\n",
    "\n",
    "#Predict probabilities\n",
    "y_pred_prob = model_logreg.predict(X_test)"
   ]
  },
  {
   "cell_type": "code",
   "execution_count": null,
   "id": "a376cb1b-a3f5-4d1e-b2e1-81de7052ef3e",
   "metadata": {},
   "outputs": [],
   "source": [
    "#Cross validation\n",
    "cv_scores = cross_val_score(model_logreg, X_train, y_train, cv=10)\n",
    "\n",
    "print(\"Cross-validation scores:\", cv_scores)\n",
    "print(\"Mean cross-validation score:\", cv_scores.mean())"
   ]
  },
  {
   "cell_type": "code",
   "execution_count": null,
   "id": "928b7fa9-d245-4a7f-bafa-48b867e275b4",
   "metadata": {},
   "outputs": [],
   "source": [
    "#Classification report\n",
    "print(classification_report(y_test, y_pred_prob))"
   ]
  },
  {
   "cell_type": "code",
   "execution_count": null,
   "id": "61c2ae30-d13b-4992-91f8-532a8a08adbc",
   "metadata": {},
   "outputs": [],
   "source": [
    "#Coefficients and Odds Ratio\n",
    "coefficients = model_logreg.coef_[0]\n",
    "odds_ratio = np.exp(coefficients)\n",
    "\n",
    "#Display feature importance using coefficients and odds ratio\n",
    "feature_importance = pd.DataFrame({\n",
    "    'Feature': X.columns,\n",
    "    'Coefficient': coefficients,\n",
    "    'Odds Ratio': odds_ratios\n",
    "})\n",
    "\n",
    "print(\"\\nFeature Importance (Coefficient and Odds Ratio):\")\n",
    "print(feature_importance.sort_values(by='Coefficient', ascending = False))"
   ]
  },
  {
   "cell_type": "code",
   "execution_count": null,
   "id": "8979076a-20ee-4373-8d62-d3582c8e763f",
   "metadata": {},
   "outputs": [],
   "source": [
    "#Calculate ROC curve\n",
    "fpr, tpr, thresholds = roc_curve(y_test, y_pred_prob)\n",
    "roc_auc = auc(fpr, tpr)\n",
    "\n",
    "#Plot ROC curve\n",
    "plt.figure()\n",
    "plt.plot(fpr, tpr, label='ROC curve (area = %0.2f)' % roc_auc)\n",
    "plt.plot([0,1], [0,1], 'k--', label = 'No Skill')\n",
    "plt.xlim([0.0, 1.0])\n",
    "plt.ylim([0.0, 1.05])\n",
    "plt.xlabel('False Positive Rate')\n",
    "plt.ylabel('True Positive Rate')\n",
    "plt.title('ROC Curve for MQL Classification')\n",
    "plt.legend()\n",
    "plt.show()"
   ]
  },
  {
   "cell_type": "code",
   "execution_count": null,
   "id": "27cabe27-3891-48c9-8a11-5f7404625643",
   "metadata": {},
   "outputs": [],
   "source": [
    "#Decision tree comparison\n",
    "\n",
    "#Creating classifier object\n",
    "model_decision_tree = DecisionTreeClassifier(criterion=\"gini\", random_state = 100, max_depth=3, min_samples_leaf=5)\n",
    "\n",
    "#Train model\n",
    "decision_tree_model.fit(X_train, y_train)\n",
    "\n",
    "#Predict response\n",
    "y_pred = decision_tree_model.predict(X_test)\n",
    "\n",
    "#Placeholder function for cal_accuracy\n",
    "print(confusion_matrix(y_test, y_pred))\n",
    "print(accuracy_score(y_test, y_pred)*100)\n",
    "print(classification_report(y_test, y_pred))\n",
    "\n",
    "#Cross validation\n",
    "cv_scores_dt = cross_val_score(decision_tree_model, X_train, y_train, cv=10)\n",
    "\n",
    "print(\"Cross-validation scores:\", cv_scores_dt)\n",
    "print(\"Mean cross-validation score:\", cv_scores_dt.mean())"
   ]
  },
  {
   "cell_type": "code",
   "execution_count": null,
   "id": "c406e271-6ade-402b-aa58-e0667466648a",
   "metadata": {},
   "outputs": [],
   "source": [
    "#Calculate ROC curve\n",
    "fpr, tpr, thresholds = roc_curve(y_test, y_pred_prob)\n",
    "roc_auc = auc(fpr, tpr)\n",
    "\n",
    "#Plot ROC curve\n",
    "plt.figure()\n",
    "plt.plot(fpr, tpr, label='ROC curve (area = %0.2f)' % roc_auc)\n",
    "plt.plot([0,1], [0,1], 'k--', label = 'No Skill')\n",
    "plt.xlim([0.0, 1.0])\n",
    "plt.ylim([0.0, 1.05])\n",
    "plt.xlabel('False Positive Rate')\n",
    "plt.ylabel('True Positive Rate')\n",
    "plt.title('ROC Curve for MQL Classification')\n",
    "plt.legend()\n",
    "plt.show()"
   ]
  },
  {
   "cell_type": "code",
   "execution_count": null,
   "id": "5e053617-f5de-4628-9244-2e0fd0f8745a",
   "metadata": {},
   "outputs": [],
   "source": [
    "#Random Forest Classifier\n",
    "\n",
    "#Instantiate Model\n",
    "model_random_forest = RandomForestClassifier(n_estimators = 100)\n",
    "\n",
    "#Performing training\n",
    "model_random_forest.fit(X_train, y_train)\n",
    "\n",
    "#Predict response\n",
    "y_pred_rf = model_random_forest.predict(X_test)\n",
    "\n",
    "#Calculate accuracy\n",
    "print(confusion_matrix(y_test, y_pred_rf))\n",
    "print(accuracy_score(y_test, y_pred_rf)*100)\n",
    "print(classification_report(y_test, y_pred_rf))"
   ]
  },
  {
   "cell_type": "code",
   "execution_count": null,
   "id": "435772d7-6d16-4644-a730-cbfccc3d5417",
   "metadata": {},
   "outputs": [],
   "source": [
    "#Determine feature importance\n",
    "feature_names = X.columns\n",
    "importances = model_random_forest.feature_importances_\n",
    "feature_imp_df = pd.DataFrame({'Feature': feature_names, 'Gini Importance': importances}).sort_values('Gini Importance', ascending=False)\n",
    "print(feature_imp_df)"
   ]
  },
  {
   "cell_type": "code",
   "execution_count": null,
   "id": "bb318112-7d1c-49fe-8bea-36f98b97db4b",
   "metadata": {},
   "outputs": [],
   "source": [
    "#Calculate ROC curve\n",
    "fpr, tpr, thresholds = roc_curve(y_test, y_pred_prob)\n",
    "roc_auc = auc(fpr, tpr)\n",
    "\n",
    "#Plot ROC curve\n",
    "plt.figure()\n",
    "plt.plot(fpr, tpr, label='ROC curve (area = %0.2f)' % roc_auc)\n",
    "plt.plot([0,1], [0,1], 'k--', label = 'No Skill')\n",
    "plt.xlim([0.0, 1.0])\n",
    "plt.ylim([0.0, 1.05])\n",
    "plt.xlabel('False Positive Rate')\n",
    "plt.ylabel('True Positive Rate')\n",
    "plt.title('ROC Curve for MQL Classification')\n",
    "plt.legend()\n",
    "plt.show()"
   ]
  },
  {
   "cell_type": "code",
   "execution_count": null,
   "id": "6e2c079e-11ef-4538-9d91-7c68942a206c",
   "metadata": {},
   "outputs": [],
   "source": [
    "#XGBoost Classifier\n",
    "model_xg = xgb.XGBClassifier(objective='multi:softmax', num_class=3)\n",
    "\n",
    "#Perform training\n",
    "model_xg.fit(X_train, y_train)\n",
    "\n",
    "#Predict reponse\n",
    "y_pred_xg = random_forest_model.predict(X_test)\n",
    "\n",
    "#Calculate accuracy\n",
    "print(confusion_matrix(y_test, y_pred_xg))\n",
    "print(accuracy_score(y_test, y_pred_xg)*100)\n",
    "print(classification_report(y_test, y_pred_xg))"
   ]
  },
  {
   "cell_type": "code",
   "execution_count": null,
   "id": "9dce8778-6a9e-4444-a1b1-afead93ab367",
   "metadata": {},
   "outputs": [],
   "source": [
    "#Calculate ROC curve\n",
    "fpr, tpr, thresholds = roc_curve(y_test, y_pred_prob)\n",
    "roc_auc = auc(fpr, tpr)\n",
    "\n",
    "#Plot ROC curve\n",
    "plt.figure()\n",
    "plt.plot(fpr, tpr, label='ROC curve (area = %0.2f)' % roc_auc)\n",
    "plt.plot([0,1], [0,1], 'k--', label = 'No Skill')\n",
    "plt.xlim([0.0, 1.0])\n",
    "plt.ylim([0.0, 1.05])\n",
    "plt.xlabel('False Positive Rate')\n",
    "plt.ylabel('True Positive Rate')\n",
    "plt.title('ROC Curve for MQL Classification')\n",
    "plt.legend()\n",
    "plt.show()"
   ]
  },
  {
   "cell_type": "code",
   "execution_count": null,
   "id": "8945d418-27ca-4dd6-a174-3fcad11f7b14",
   "metadata": {},
   "outputs": [],
   "source": [
    "#Isolation Forest for analmoly detection\n",
    "clf = IsolationForest(contamination=0.1)\n",
    "\n",
    "clf.fit(X_train)\n",
    "\n",
    "y_pred_if = clf.predict(X_test)\n",
    "\n",
    "print(confusion_matrix(y_test, y_pred_if))\n",
    "print(accuracy_score(y_test, y_pred_if)*100)\n",
    "print(classification_report(y_test, y_pred_if))"
   ]
  }
 ],
 "metadata": {
  "kernelspec": {
   "display_name": "Python 3 (ipykernel)",
   "language": "python",
   "name": "python3"
  },
  "language_info": {
   "codemirror_mode": {
    "name": "ipython",
    "version": 3
   },
   "file_extension": ".py",
   "mimetype": "text/x-python",
   "name": "python",
   "nbconvert_exporter": "python",
   "pygments_lexer": "ipython3",
   "version": "3.11.3"
  }
 },
 "nbformat": 4,
 "nbformat_minor": 5
}
